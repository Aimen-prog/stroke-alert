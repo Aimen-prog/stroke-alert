{
 "cells": [
  {
   "cell_type": "markdown",
   "metadata": {},
   "source": [
    "# Inroduction"
   ]
  },
  {
   "cell_type": "code",
   "execution_count": null,
   "metadata": {},
   "outputs": [],
   "source": []
  },
  {
   "cell_type": "markdown",
   "metadata": {},
   "source": [
    "# Analyse exploratoire des données (EDA)"
   ]
  },
  {
   "cell_type": "code",
   "execution_count": 176,
   "metadata": {},
   "outputs": [
    {
     "name": "stderr",
     "output_type": "stream",
     "text": [
      "<>:4: DeprecationWarning: invalid escape sequence \\h\n",
      "<>:4: DeprecationWarning: invalid escape sequence \\h\n",
      "C:\\Users\\cheri\\AppData\\Local\\Temp\\ipykernel_4260\\3064394120.py:4: DeprecationWarning: invalid escape sequence \\h\n",
      "  healthcare_data = pd.read_csv(\".\\healthcare-dataset-stroke-data.csv\", delimiter=\",\")\n"
     ]
    },
    {
     "data": {
      "text/html": [
       "<div>\n",
       "<style scoped>\n",
       "    .dataframe tbody tr th:only-of-type {\n",
       "        vertical-align: middle;\n",
       "    }\n",
       "\n",
       "    .dataframe tbody tr th {\n",
       "        vertical-align: top;\n",
       "    }\n",
       "\n",
       "    .dataframe thead th {\n",
       "        text-align: right;\n",
       "    }\n",
       "</style>\n",
       "<table border=\"1\" class=\"dataframe\">\n",
       "  <thead>\n",
       "    <tr style=\"text-align: right;\">\n",
       "      <th></th>\n",
       "      <th>id</th>\n",
       "      <th>gender</th>\n",
       "      <th>age</th>\n",
       "      <th>hypertension</th>\n",
       "      <th>heart_disease</th>\n",
       "      <th>ever_married</th>\n",
       "      <th>work_type</th>\n",
       "      <th>Residence_type</th>\n",
       "      <th>avg_glucose_level</th>\n",
       "      <th>bmi</th>\n",
       "      <th>smoking_status</th>\n",
       "      <th>stroke</th>\n",
       "    </tr>\n",
       "  </thead>\n",
       "  <tbody>\n",
       "    <tr>\n",
       "      <th>0</th>\n",
       "      <td>9046</td>\n",
       "      <td>Male</td>\n",
       "      <td>67.0</td>\n",
       "      <td>0</td>\n",
       "      <td>1</td>\n",
       "      <td>Yes</td>\n",
       "      <td>Private</td>\n",
       "      <td>Urban</td>\n",
       "      <td>228.69</td>\n",
       "      <td>36.6</td>\n",
       "      <td>formerly smoked</td>\n",
       "      <td>1</td>\n",
       "    </tr>\n",
       "    <tr>\n",
       "      <th>1</th>\n",
       "      <td>51676</td>\n",
       "      <td>Female</td>\n",
       "      <td>61.0</td>\n",
       "      <td>0</td>\n",
       "      <td>0</td>\n",
       "      <td>Yes</td>\n",
       "      <td>Self-employed</td>\n",
       "      <td>Rural</td>\n",
       "      <td>202.21</td>\n",
       "      <td>NaN</td>\n",
       "      <td>never smoked</td>\n",
       "      <td>1</td>\n",
       "    </tr>\n",
       "    <tr>\n",
       "      <th>2</th>\n",
       "      <td>31112</td>\n",
       "      <td>Male</td>\n",
       "      <td>80.0</td>\n",
       "      <td>0</td>\n",
       "      <td>1</td>\n",
       "      <td>Yes</td>\n",
       "      <td>Private</td>\n",
       "      <td>Rural</td>\n",
       "      <td>105.92</td>\n",
       "      <td>32.5</td>\n",
       "      <td>never smoked</td>\n",
       "      <td>1</td>\n",
       "    </tr>\n",
       "  </tbody>\n",
       "</table>\n",
       "</div>"
      ],
      "text/plain": [
       "      id  gender   age  hypertension  heart_disease ever_married  \\\n",
       "0   9046    Male  67.0             0              1          Yes   \n",
       "1  51676  Female  61.0             0              0          Yes   \n",
       "2  31112    Male  80.0             0              1          Yes   \n",
       "\n",
       "       work_type Residence_type  avg_glucose_level   bmi   smoking_status  \\\n",
       "0        Private          Urban             228.69  36.6  formerly smoked   \n",
       "1  Self-employed          Rural             202.21   NaN     never smoked   \n",
       "2        Private          Rural             105.92  32.5     never smoked   \n",
       "\n",
       "   stroke  \n",
       "0       1  \n",
       "1       1  \n",
       "2       1  "
      ]
     },
     "execution_count": 176,
     "metadata": {},
     "output_type": "execute_result"
    }
   ],
   "source": [
    "import pandas as pd\n",
    "import copy\n",
    "# Afficher un aperçu des données\n",
    "healthcare_data = pd.read_csv(\".\\healthcare-dataset-stroke-data.csv\", delimiter=\",\")\n",
    "healthcare_data.head(3)\n"
   ]
  },
  {
   "cell_type": "code",
   "execution_count": 177,
   "metadata": {},
   "outputs": [
    {
     "data": {
      "text/plain": [
       "id                     int64\n",
       "gender                object\n",
       "age                  float64\n",
       "hypertension           int64\n",
       "heart_disease          int64\n",
       "ever_married          object\n",
       "work_type             object\n",
       "Residence_type        object\n",
       "avg_glucose_level    float64\n",
       "bmi                  float64\n",
       "smoking_status        object\n",
       "stroke                 int64\n",
       "dtype: object"
      ]
     },
     "execution_count": 177,
     "metadata": {},
     "output_type": "execute_result"
    }
   ],
   "source": [
    "healthcare_data.dtypes"
   ]
  },
  {
   "cell_type": "code",
   "execution_count": 178,
   "metadata": {},
   "outputs": [
    {
     "data": {
      "text/html": [
       "<div>\n",
       "<style scoped>\n",
       "    .dataframe tbody tr th:only-of-type {\n",
       "        vertical-align: middle;\n",
       "    }\n",
       "\n",
       "    .dataframe tbody tr th {\n",
       "        vertical-align: top;\n",
       "    }\n",
       "\n",
       "    .dataframe thead th {\n",
       "        text-align: right;\n",
       "    }\n",
       "</style>\n",
       "<table border=\"1\" class=\"dataframe\">\n",
       "  <thead>\n",
       "    <tr style=\"text-align: right;\">\n",
       "      <th></th>\n",
       "      <th>id</th>\n",
       "      <th>age</th>\n",
       "      <th>hypertension</th>\n",
       "      <th>heart_disease</th>\n",
       "      <th>avg_glucose_level</th>\n",
       "      <th>bmi</th>\n",
       "      <th>stroke</th>\n",
       "    </tr>\n",
       "  </thead>\n",
       "  <tbody>\n",
       "    <tr>\n",
       "      <th>count</th>\n",
       "      <td>5110.000000</td>\n",
       "      <td>5110.000000</td>\n",
       "      <td>5110.000000</td>\n",
       "      <td>5110.000000</td>\n",
       "      <td>5110.000000</td>\n",
       "      <td>4909.000000</td>\n",
       "      <td>5110.000000</td>\n",
       "    </tr>\n",
       "    <tr>\n",
       "      <th>mean</th>\n",
       "      <td>36517.829354</td>\n",
       "      <td>43.226614</td>\n",
       "      <td>0.097456</td>\n",
       "      <td>0.054012</td>\n",
       "      <td>106.147677</td>\n",
       "      <td>28.893237</td>\n",
       "      <td>0.048728</td>\n",
       "    </tr>\n",
       "    <tr>\n",
       "      <th>std</th>\n",
       "      <td>21161.721625</td>\n",
       "      <td>22.612647</td>\n",
       "      <td>0.296607</td>\n",
       "      <td>0.226063</td>\n",
       "      <td>45.283560</td>\n",
       "      <td>7.854067</td>\n",
       "      <td>0.215320</td>\n",
       "    </tr>\n",
       "    <tr>\n",
       "      <th>min</th>\n",
       "      <td>67.000000</td>\n",
       "      <td>0.080000</td>\n",
       "      <td>0.000000</td>\n",
       "      <td>0.000000</td>\n",
       "      <td>55.120000</td>\n",
       "      <td>10.300000</td>\n",
       "      <td>0.000000</td>\n",
       "    </tr>\n",
       "    <tr>\n",
       "      <th>25%</th>\n",
       "      <td>17741.250000</td>\n",
       "      <td>25.000000</td>\n",
       "      <td>0.000000</td>\n",
       "      <td>0.000000</td>\n",
       "      <td>77.245000</td>\n",
       "      <td>23.500000</td>\n",
       "      <td>0.000000</td>\n",
       "    </tr>\n",
       "    <tr>\n",
       "      <th>50%</th>\n",
       "      <td>36932.000000</td>\n",
       "      <td>45.000000</td>\n",
       "      <td>0.000000</td>\n",
       "      <td>0.000000</td>\n",
       "      <td>91.885000</td>\n",
       "      <td>28.100000</td>\n",
       "      <td>0.000000</td>\n",
       "    </tr>\n",
       "    <tr>\n",
       "      <th>75%</th>\n",
       "      <td>54682.000000</td>\n",
       "      <td>61.000000</td>\n",
       "      <td>0.000000</td>\n",
       "      <td>0.000000</td>\n",
       "      <td>114.090000</td>\n",
       "      <td>33.100000</td>\n",
       "      <td>0.000000</td>\n",
       "    </tr>\n",
       "    <tr>\n",
       "      <th>max</th>\n",
       "      <td>72940.000000</td>\n",
       "      <td>82.000000</td>\n",
       "      <td>1.000000</td>\n",
       "      <td>1.000000</td>\n",
       "      <td>271.740000</td>\n",
       "      <td>97.600000</td>\n",
       "      <td>1.000000</td>\n",
       "    </tr>\n",
       "  </tbody>\n",
       "</table>\n",
       "</div>"
      ],
      "text/plain": [
       "                 id          age  hypertension  heart_disease  \\\n",
       "count   5110.000000  5110.000000   5110.000000    5110.000000   \n",
       "mean   36517.829354    43.226614      0.097456       0.054012   \n",
       "std    21161.721625    22.612647      0.296607       0.226063   \n",
       "min       67.000000     0.080000      0.000000       0.000000   \n",
       "25%    17741.250000    25.000000      0.000000       0.000000   \n",
       "50%    36932.000000    45.000000      0.000000       0.000000   \n",
       "75%    54682.000000    61.000000      0.000000       0.000000   \n",
       "max    72940.000000    82.000000      1.000000       1.000000   \n",
       "\n",
       "       avg_glucose_level          bmi       stroke  \n",
       "count        5110.000000  4909.000000  5110.000000  \n",
       "mean          106.147677    28.893237     0.048728  \n",
       "std            45.283560     7.854067     0.215320  \n",
       "min            55.120000    10.300000     0.000000  \n",
       "25%            77.245000    23.500000     0.000000  \n",
       "50%            91.885000    28.100000     0.000000  \n",
       "75%           114.090000    33.100000     0.000000  \n",
       "max           271.740000    97.600000     1.000000  "
      ]
     },
     "execution_count": 178,
     "metadata": {},
     "output_type": "execute_result"
    }
   ],
   "source": [
    "# Vérifier l'intégrité des données\n",
    "healthcare_data.describe()"
   ]
  },
  {
   "cell_type": "markdown",
   "metadata": {},
   "source": [
    "- Un niveau de glucose dans le sang de 271.74 mg/dL (milligrammes par décilitre) serait considéré comme élevé et pourrait indiquer une hyperglycémie.\n",
    "\n",
    "- Un niveau de glucose dans le sang de 55.12 mg/dL serait considéré comme relativement bas et pourrait indiquer une hypoglycémie.\n",
    "\n",
    "- L'âge moyen est de 43 ans, la personne la plus âgée a 82 ans et l'individu le plus jeune a 0.08 ans soit environ 2 jours."
   ]
  },
  {
   "cell_type": "code",
   "execution_count": 179,
   "metadata": {},
   "outputs": [
    {
     "data": {
      "text/html": [
       "<div>\n",
       "<style scoped>\n",
       "    .dataframe tbody tr th:only-of-type {\n",
       "        vertical-align: middle;\n",
       "    }\n",
       "\n",
       "    .dataframe tbody tr th {\n",
       "        vertical-align: top;\n",
       "    }\n",
       "\n",
       "    .dataframe thead th {\n",
       "        text-align: right;\n",
       "    }\n",
       "</style>\n",
       "<table border=\"1\" class=\"dataframe\">\n",
       "  <thead>\n",
       "    <tr style=\"text-align: right;\">\n",
       "      <th></th>\n",
       "      <th>gender</th>\n",
       "      <th>ever_married</th>\n",
       "      <th>work_type</th>\n",
       "      <th>Residence_type</th>\n",
       "      <th>smoking_status</th>\n",
       "    </tr>\n",
       "  </thead>\n",
       "  <tbody>\n",
       "    <tr>\n",
       "      <th>count</th>\n",
       "      <td>5110</td>\n",
       "      <td>5110</td>\n",
       "      <td>5110</td>\n",
       "      <td>5110</td>\n",
       "      <td>5110</td>\n",
       "    </tr>\n",
       "    <tr>\n",
       "      <th>unique</th>\n",
       "      <td>3</td>\n",
       "      <td>2</td>\n",
       "      <td>5</td>\n",
       "      <td>2</td>\n",
       "      <td>4</td>\n",
       "    </tr>\n",
       "    <tr>\n",
       "      <th>top</th>\n",
       "      <td>Female</td>\n",
       "      <td>Yes</td>\n",
       "      <td>Private</td>\n",
       "      <td>Urban</td>\n",
       "      <td>never smoked</td>\n",
       "    </tr>\n",
       "    <tr>\n",
       "      <th>freq</th>\n",
       "      <td>2994</td>\n",
       "      <td>3353</td>\n",
       "      <td>2925</td>\n",
       "      <td>2596</td>\n",
       "      <td>1892</td>\n",
       "    </tr>\n",
       "  </tbody>\n",
       "</table>\n",
       "</div>"
      ],
      "text/plain": [
       "        gender ever_married work_type Residence_type smoking_status\n",
       "count     5110         5110      5110           5110           5110\n",
       "unique       3            2         5              2              4\n",
       "top     Female          Yes   Private          Urban   never smoked\n",
       "freq      2994         3353      2925           2596           1892"
      ]
     },
     "execution_count": 179,
     "metadata": {},
     "output_type": "execute_result"
    }
   ],
   "source": [
    "# Vérifier l'intégrité des données\n",
    "healthcare_data.describe(include=object)"
   ]
  },
  {
   "cell_type": "code",
   "execution_count": 180,
   "metadata": {},
   "outputs": [
    {
     "data": {
      "text/plain": [
       "<Axes: >"
      ]
     },
     "execution_count": 180,
     "metadata": {},
     "output_type": "execute_result"
    },
    {
     "data": {
      "image/png": "[encoded data removed]",
      "text/plain": [
       "<Figure size 2500x1000 with 3 Axes>"
      ]
     },
     "metadata": {},
     "output_type": "display_data"
    }
   ],
   "source": [
    "# Recherche de valeurs manquantes\n",
    "import missingno as msno\n",
    "msno.bar(healthcare_data)"
   ]
  },
  {
   "cell_type": "code",
   "execution_count": 181,
   "metadata": {},
   "outputs": [
    {
     "data": {
      "text/plain": [
       "id                     0\n",
       "gender                 0\n",
       "age                    0\n",
       "hypertension           0\n",
       "heart_disease          0\n",
       "ever_married           0\n",
       "work_type              0\n",
       "Residence_type         0\n",
       "avg_glucose_level      0\n",
       "bmi                  201\n",
       "smoking_status         0\n",
       "stroke                 0\n",
       "dtype: int64"
      ]
     },
     "execution_count": 181,
     "metadata": {},
     "output_type": "execute_result"
    }
   ],
   "source": [
    "healthcare_data.isna().sum()"
   ]
  },
  {
   "cell_type": "markdown",
   "metadata": {},
   "source": [
    "► On remarque que la colonne \"bmi\" a 201 valeurs manquantes. On peut se permettre de supprimer ces lignes qui sont peu nombreuses. "
   ]
  },
  {
   "cell_type": "code",
   "execution_count": 182,
   "metadata": {},
   "outputs": [
    {
     "data": {
      "text/plain": [
       "id                   0\n",
       "gender               0\n",
       "age                  0\n",
       "hypertension         0\n",
       "heart_disease        0\n",
       "ever_married         0\n",
       "work_type            0\n",
       "Residence_type       0\n",
       "avg_glucose_level    0\n",
       "bmi                  0\n",
       "smoking_status       0\n",
       "stroke               0\n",
       "dtype: int64"
      ]
     },
     "execution_count": 182,
     "metadata": {},
     "output_type": "execute_result"
    }
   ],
   "source": [
    "healthcare_data = healthcare_data.dropna(subset=['bmi'])\n",
    "healthcare_data.isna().sum()"
   ]
  },
  {
   "cell_type": "code",
   "execution_count": 183,
   "metadata": {},
   "outputs": [
    {
     "data": {
      "text/plain": [
       "gender\n",
       "Female    2897\n",
       "Male      2011\n",
       "Other        1\n",
       "Name: count, dtype: int64"
      ]
     },
     "execution_count": 183,
     "metadata": {},
     "output_type": "execute_result"
    }
   ],
   "source": [
    "healthcare_data['gender'].value_counts()\n"
   ]
  },
  {
   "cell_type": "code",
   "execution_count": 184,
   "metadata": {},
   "outputs": [
    {
     "data": {
      "text/plain": [
       "gender\n",
       "Female    2897\n",
       "Male      2011\n",
       "Name: count, dtype: int64"
      ]
     },
     "execution_count": 184,
     "metadata": {},
     "output_type": "execute_result"
    }
   ],
   "source": [
    "# On enlève la ligne qui contient \"Other\" pour la colonne genre car non représentative\n",
    "healthcare_data = healthcare_data[healthcare_data['gender'] != 'Other']\n",
    "healthcare_data['gender'].value_counts()"
   ]
  },
  {
   "cell_type": "code",
   "execution_count": 185,
   "metadata": {},
   "outputs": [],
   "source": [
    "# On enlève les lignes correspondantes aux enfants de 10 ans de notre analyse\n",
    "healthcare_data = healthcare_data[healthcare_data['age'] >= 10]"
   ]
  },
  {
   "cell_type": "code",
   "execution_count": 186,
   "metadata": {},
   "outputs": [
    {
     "name": "stdout",
     "output_type": "stream",
     "text": [
      "gender : ['Male' 'Female']\n",
      "hypertension : [0 1]\n",
      "heart_disease : [1 0]\n",
      "ever_married : ['Yes' 'No']\n",
      "work_type : ['Private' 'Self-employed' 'Govt_job' 'children' 'Never_worked']\n",
      "Residence_type : ['Urban' 'Rural']\n",
      "smoking_status : ['formerly smoked' 'never smoked' 'smokes' 'Unknown']\n",
      "stroke : [1 0]\n"
     ]
    }
   ],
   "source": [
    "# Vérification des valeurs uniques pour les colonnes catégorielles\n",
    "def get_unique(df):\n",
    "    for column in df.columns:\n",
    "        if not column in [\"id\", \"age\", \"avg_glucose_level\", \"bmi\"]: \n",
    "            print(column , \":\",  df[column].unique())\n",
    "get_unique(healthcare_data)\n"
   ]
  },
  {
   "cell_type": "code",
   "execution_count": 187,
   "metadata": {},
   "outputs": [
    {
     "name": "stdout",
     "output_type": "stream",
     "text": [
      "Nombre d'observations : 4449\n",
      "Nombre d'AVC : 209\n"
     ]
    }
   ],
   "source": [
    "initial_healthcare_data = copy.deepcopy(healthcare_data)\n",
    "print(\"Nombre d'observations :\", initial_healthcare_data.shape[0])\n",
    "print(\"Nombre d'AVC :\", initial_healthcare_data.loc[initial_healthcare_data.stroke==1].shape[0])"
   ]
  },
  {
   "cell_type": "markdown",
   "metadata": {},
   "source": [
    "► On remarque qu'il y a un nombre faible de cas d'accident vasculaire cérébral (cas positifs) dans notre jeu de données, avec seulement *209* instances d'AVC sur un total de *4449* observations disponibles.\n",
    "Notre ensemble de données est déséquilibré et cela affecterait les performances du modèle qu'on va utiliser."
   ]
  },
  {
   "cell_type": "markdown",
   "metadata": {},
   "source": [
    "**Pas convaincu?**, Nous avons essayé de faire des prédictions en utilisant ce jeu de données tel qu'il est (déséquilibre des données). Vous pouvez trouvé les résultats à la fin de ce notebook dans la section **Annexe**."
   ]
  },
  {
   "cell_type": "markdown",
   "metadata": {},
   "source": [
    "**Maintenant**, essayons de faire la data augmentation avec SMOTE pour rétablir l'équilibre de nos données"
   ]
  },
  {
   "cell_type": "code",
   "execution_count": 188,
   "metadata": {},
   "outputs": [
    {
     "name": "stdout",
     "output_type": "stream",
     "text": [
      "Gender :\n",
      "Female: 0\n",
      "Male: 1\n",
      "\n",
      "\n",
      "Ever married :\n",
      "No: 0\n",
      "Yes: 1\n",
      "\n",
      "\n",
      "Work type :\n",
      "Govt_job: 0\n",
      "Never_worked: 1\n",
      "Private: 2\n",
      "Self-employed: 3\n",
      "children: 4\n",
      "\n",
      "\n",
      "Residence type :\n",
      "Rural: 0\n",
      "Urban: 1\n",
      "\n",
      "\n",
      "Smoking status :\n",
      "Unknown: 0\n",
      "formerly smoked: 1\n",
      "never smoked: 2\n",
      "smokes: 3\n"
     ]
    }
   ],
   "source": [
    "# labelisation pour la data augmentation\n",
    "from sklearn.preprocessing import LabelEncoder\n",
    "\n",
    "def get_annotation(encoder, variable_name):\n",
    "    print(variable_name)\n",
    "    for i, category in enumerate(encoder.classes_):\n",
    "        print(f\"{category}: {i}\")\n",
    "\n",
    "\n",
    "\n",
    "label_encoder = LabelEncoder()\n",
    "healthcare_data['gender'] = label_encoder.fit_transform(healthcare_data['gender'])\n",
    "get_annotation(label_encoder, \"Gender :\")\n",
    "print(\"\\n\")\n",
    "\n",
    "healthcare_data['ever_married'] = label_encoder.fit_transform(healthcare_data['ever_married'])\n",
    "get_annotation(label_encoder, 'Ever married :')\n",
    "print(\"\\n\")\n",
    "\n",
    "healthcare_data['work_type'] = label_encoder.fit_transform(healthcare_data['work_type'])\n",
    "get_annotation(label_encoder, 'Work type :')\n",
    "print(\"\\n\")\n",
    "\n",
    "healthcare_data['Residence_type'] = label_encoder.fit_transform(healthcare_data['Residence_type'])\n",
    "get_annotation(label_encoder, 'Residence type :')\n",
    "print(\"\\n\")\n",
    "\n",
    "healthcare_data['smoking_status'] = label_encoder.fit_transform(healthcare_data['smoking_status'])\n",
    "get_annotation(label_encoder, 'Smoking status :')\n",
    "\n"
   ]
  },
  {
   "cell_type": "code",
   "execution_count": 189,
   "metadata": {},
   "outputs": [
    {
     "name": "stdout",
     "output_type": "stream",
     "text": [
      "Nombre d'observations (aprés SMOTE) : 8480\n",
      "Nombre d'AVC (aprés SMOTE) : 4240\n"
     ]
    }
   ],
   "source": [
    "# Data Augmentation\n",
    "\n",
    "from imblearn.over_sampling import SMOTE\n",
    "\n",
    "\n",
    "# on separate les features et la variable d'interet \"stroke\"\n",
    "X = healthcare_data.drop('stroke', axis=1)\n",
    "y = healthcare_data['stroke']\n",
    "\n",
    "\n",
    "# data augmentation SMOTE de la classe minoritaire (stroke =1)\n",
    "smote = SMOTE(sampling_strategy='minority')\n",
    "X_augmented, y_augmented = smote.fit_resample(X, y)\n",
    "\n",
    "# data augmentée\n",
    "healthcare_data = pd.concat([pd.DataFrame(X_augmented, columns=X.columns),\n",
    "                            pd.DataFrame(y_augmented, columns=['stroke'])], axis=1)\n",
    "\n",
    "# vérification\n",
    "print(\"Nombre d'observations (aprés SMOTE) :\", healthcare_data.shape[0])\n",
    "print(\"Nombre d'AVC (aprés SMOTE) :\", healthcare_data.loc[healthcare_data.stroke==1].shape[0])"
   ]
  },
  {
   "cell_type": "code",
   "execution_count": 190,
   "metadata": {},
   "outputs": [
    {
     "data": {
      "text/html": [
       "<div>\n",
       "<style scoped>\n",
       "    .dataframe tbody tr th:only-of-type {\n",
       "        vertical-align: middle;\n",
       "    }\n",
       "\n",
       "    .dataframe tbody tr th {\n",
       "        vertical-align: top;\n",
       "    }\n",
       "\n",
       "    .dataframe thead th {\n",
       "        text-align: right;\n",
       "    }\n",
       "</style>\n",
       "<table border=\"1\" class=\"dataframe\">\n",
       "  <thead>\n",
       "    <tr style=\"text-align: right;\">\n",
       "      <th></th>\n",
       "      <th>id</th>\n",
       "      <th>gender</th>\n",
       "      <th>age</th>\n",
       "      <th>hypertension</th>\n",
       "      <th>heart_disease</th>\n",
       "      <th>ever_married</th>\n",
       "      <th>work_type</th>\n",
       "      <th>Residence_type</th>\n",
       "      <th>avg_glucose_level</th>\n",
       "      <th>bmi</th>\n",
       "      <th>smoking_status</th>\n",
       "      <th>stroke</th>\n",
       "    </tr>\n",
       "  </thead>\n",
       "  <tbody>\n",
       "    <tr>\n",
       "      <th>8477</th>\n",
       "      <td>38895</td>\n",
       "      <td>0</td>\n",
       "      <td>77.337373</td>\n",
       "      <td>0</td>\n",
       "      <td>0</td>\n",
       "      <td>1</td>\n",
       "      <td>2</td>\n",
       "      <td>0</td>\n",
       "      <td>88.649788</td>\n",
       "      <td>32.789689</td>\n",
       "      <td>1</td>\n",
       "      <td>1</td>\n",
       "    </tr>\n",
       "    <tr>\n",
       "      <th>8478</th>\n",
       "      <td>54387</td>\n",
       "      <td>1</td>\n",
       "      <td>51.449050</td>\n",
       "      <td>0</td>\n",
       "      <td>0</td>\n",
       "      <td>1</td>\n",
       "      <td>2</td>\n",
       "      <td>0</td>\n",
       "      <td>98.887482</td>\n",
       "      <td>29.602684</td>\n",
       "      <td>1</td>\n",
       "      <td>1</td>\n",
       "    </tr>\n",
       "    <tr>\n",
       "      <th>8479</th>\n",
       "      <td>28485</td>\n",
       "      <td>0</td>\n",
       "      <td>74.034083</td>\n",
       "      <td>0</td>\n",
       "      <td>0</td>\n",
       "      <td>1</td>\n",
       "      <td>2</td>\n",
       "      <td>0</td>\n",
       "      <td>105.094272</td>\n",
       "      <td>30.969968</td>\n",
       "      <td>1</td>\n",
       "      <td>1</td>\n",
       "    </tr>\n",
       "  </tbody>\n",
       "</table>\n",
       "</div>"
      ],
      "text/plain": [
       "         id  gender        age  hypertension  heart_disease  ever_married  \\\n",
       "8477  38895       0  77.337373             0              0             1   \n",
       "8478  54387       1  51.449050             0              0             1   \n",
       "8479  28485       0  74.034083             0              0             1   \n",
       "\n",
       "      work_type  Residence_type  avg_glucose_level        bmi  smoking_status  \\\n",
       "8477          2               0          88.649788  32.789689               1   \n",
       "8478          2               0          98.887482  29.602684               1   \n",
       "8479          2               0         105.094272  30.969968               1   \n",
       "\n",
       "      stroke  \n",
       "8477       1  \n",
       "8478       1  \n",
       "8479       1  "
      ]
     },
     "execution_count": 190,
     "metadata": {},
     "output_type": "execute_result"
    }
   ],
   "source": [
    "healthcare_data.tail(3)"
   ]
  },
  {
   "cell_type": "markdown",
   "metadata": {},
   "source": [
    "► On remarque que nombre d'observations total a augmenté après l'application de SMOTE et que le nombre d'observations pour la classe minoritaire (stroke = 1) a augmenté pour se rapprocher du nombre d'observations pour la classe majoritaire (stroke = 0), cela confirme qu'on a obtenu plus de données et que les classes ont été rééquilibrées avec cette méthode."
   ]
  },
  {
   "cell_type": "markdown",
   "metadata": {},
   "source": [
    "# Etude de correlation"
   ]
  },
  {
   "cell_type": "markdown",
   "metadata": {},
   "source": [
    "Bien qu'on a tendance à l'utiliser souvent, la corrélation de Pearson, qui est couramment utilisée pour mesurer la relation linéaire entre deux variables continues, n'est pas appropriée pour mesurer la corrélation entre une variable continue (age ou avg_glucose_level ou bien bmi) et une variable binaire (stroke). \n",
    "\n",
    "Dans ce cas, nous pouvons utiliser le coefficient de corrélation de rang de Spearman."
   ]
  },
  {
   "cell_type": "code",
   "execution_count": 191,
   "metadata": {},
   "outputs": [
    {
     "name": "stdout",
     "output_type": "stream",
     "text": [
      "Calcul de la correlation entre bmi et stroke\n",
      "Coefficient de corrélation de rang de Spearman: 0.09193944782927571\n",
      "p-value: 2.1919031726883685e-17\n"
     ]
    }
   ],
   "source": [
    "\n",
    "from scipy.stats import spearmanr\n",
    "\n",
    "# Calcul de la correlation entre bmi et stroke\n",
    "print(\"Calcul de la correlation entre bmi et stroke\")\n",
    "correlation, p_value = spearmanr(healthcare_data['bmi'], healthcare_data['stroke'])\n",
    "print(\"Coefficient de corrélation de rang de Spearman:\", correlation)\n",
    "print(\"p-value:\", p_value)\n"
   ]
  },
  {
   "cell_type": "markdown",
   "metadata": {},
   "source": [
    "► Le coefficient de corrélation de rang de Spearman est de 0.09, indiquant une corrélation très faible entre le bmi et l'AVC. Cependant, la p-value est très faible, ce qui signifie que cette corrélation est statistiquement significative mais faible."
   ]
  },
  {
   "cell_type": "code",
   "execution_count": 192,
   "metadata": {},
   "outputs": [
    {
     "name": "stdout",
     "output_type": "stream",
     "text": [
      "Calcul de la correlation entre age et stroke\n",
      "Coefficient de corrélation de rang de Spearman: 0.5565473363750614\n",
      "p-value: 0.0\n"
     ]
    }
   ],
   "source": [
    "# Calcul de la correlation entre age et stroke\n",
    "print(\"Calcul de la correlation entre age et stroke\")\n",
    "correlation, p_value = spearmanr(healthcare_data['age'], healthcare_data['stroke'])\n",
    "print(\"Coefficient de corrélation de rang de Spearman:\", correlation)\n",
    "print(\"p-value:\", p_value)"
   ]
  },
  {
   "cell_type": "markdown",
   "metadata": {},
   "source": [
    "► Le coefficient de corrélation de rang de Spearman est dans les environs 0.5, ce qui suggère une corrélation modérée à forte entre les variables. Avec une p-value de 0.0, cette corrélation est statistiquement significative, indiquant une relation significative entre les deux variables age et AVC."
   ]
  },
  {
   "cell_type": "code",
   "execution_count": 193,
   "metadata": {},
   "outputs": [
    {
     "name": "stdout",
     "output_type": "stream",
     "text": [
      "Calcul de la correlation entre avg_glucose_level et stroke\n",
      "Coefficient de corrélation de rang de Spearman: 0.3168479248142303\n",
      "p-value: 4.6473469823314016e-197\n"
     ]
    }
   ],
   "source": [
    "# calcul de la correlation entre avg_glucose_level et stroke\n",
    "print(\"Calcul de la correlation entre avg_glucose_level et stroke\")\n",
    "correlation, p_value = spearmanr(healthcare_data['avg_glucose_level'], healthcare_data['stroke'])\n",
    "print(\"Coefficient de corrélation de rang de Spearman:\", correlation)\n",
    "print(\"p-value:\", p_value)"
   ]
  },
  {
   "cell_type": "markdown",
   "metadata": {},
   "source": [
    "► Le coefficient de corrélation de rang de Spearman est de 0.3, ce qui suggère une petite corrélation entre les variables avg_glucose_level et stroke. Avec une très faible p-value, cette corrélation est statistiquement significative, indiquant une relation significative entre les deux variables taux moyen de glucose et AVC."
   ]
  },
  {
   "cell_type": "markdown",
   "metadata": {},
   "source": [
    "Le test de contingence (ou bien test du chi-deux) est utilisé pour évaluer l'indépendance entre deux variables catégorielles. Par exemple, heart disease et stroke, hypertension et stroke, smoking status et stroke...etc"
   ]
  },
  {
   "cell_type": "code",
   "execution_count": 194,
   "metadata": {},
   "outputs": [
    {
     "name": "stdout",
     "output_type": "stream",
     "text": [
      "Correlation entre heart disease et stroke:\n",
      "Coefficient de contingence: 0.0001233305342807786\n"
     ]
    }
   ],
   "source": [
    "\n",
    "from scipy.stats import chi2_contingency\n",
    "import numpy as np\n",
    "# calcul de la correlation entre heart disease (maladie cardiaque) et stroke (AVC)\n",
    "print(\"Correlation entre heart disease et stroke:\")\n",
    "\n",
    "\n",
    "# calcul du tableau de contingence\n",
    "contingency_table = pd.crosstab(healthcare_data['heart_disease'], healthcare_data['stroke'])\n",
    "\n",
    "#calcul du coeff de contingence\n",
    "chi2, p, dof, expected = chi2_contingency(contingency_table)\n",
    "\n",
    "print(\"Coefficient de contingence:\", np.sqrt(chi2 / (len(healthcare_data['heart_disease']) * min(len(healthcare_data['stroke']), len(healthcare_data['heart_disease'])))))\n",
    "\n"
   ]
  },
  {
   "cell_type": "markdown",
   "metadata": {},
   "source": [
    "► Le coefficient de contingence est très faible, ce qui suggère une association très faible entre le statut de maladie cardiaque et l'AVC.\n",
    "\n",
    "► Cela peut sembler contre-intuitif, il est possible que dans nos données, il y ait peu de cas où les personnes ayant une maladie cardiaque ont également eu un AVC, ou que d'autres facteurs influencent cette association."
   ]
  },
  {
   "cell_type": "code",
   "execution_count": 195,
   "metadata": {},
   "outputs": [
    {
     "name": "stdout",
     "output_type": "stream",
     "text": [
      "Correlation entre hypertension et stroke:\n",
      "Coefficient de contingence: 8.867266865499385e-06\n"
     ]
    }
   ],
   "source": [
    "#calcul de la correlation entre hypertension (hypertension) et stroke (AVC)\n",
    "print(\"Correlation entre hypertension et stroke:\")\n",
    "\n",
    "\n",
    "# calcul du tableau de contingence\n",
    "contingency_table = pd.crosstab(healthcare_data['hypertension'], healthcare_data['stroke'])\n",
    "\n",
    "#calcul du coeff de contingence\n",
    "chi2, p, dof, expected = chi2_contingency(contingency_table)\n",
    "\n",
    "print(\"Coefficient de contingence:\", np.sqrt(chi2 / (len(healthcare_data['hypertension']) * min(len(healthcare_data['stroke']), len(healthcare_data['hypertension'])))))"
   ]
  },
  {
   "cell_type": "markdown",
   "metadata": {},
   "source": [
    "► Le coefficient de contingence est très faible, ce qui suggère une association très faible entre l'hypertension et l'AVC.\n",
    "\n",
    "► Encore une fois, cela peut sembler contre-intuitif, il est possible qu'il y ait peu de cas où les personnes hypertendues ont également eu un AVC dans nos données, ou que d'autres facteurs influencent cette association."
   ]
  },
  {
   "cell_type": "code",
   "execution_count": 196,
   "metadata": {},
   "outputs": [
    {
     "name": "stdout",
     "output_type": "stream",
     "text": [
      "Correlation entre smoking_status et stroke:\n",
      "Coefficient de contingence: 0.003268024135605667\n"
     ]
    }
   ],
   "source": [
    "# calcul de la correlation entre smoking_status (smoking_status) et stroke (AVC)\n",
    "print(\"Correlation entre smoking_status et stroke:\")\n",
    "# calcul du tableau de contingence\n",
    "contingency_table = pd.crosstab(healthcare_data['smoking_status'], healthcare_data['stroke'])\n",
    "\n",
    "#calcul du coeff de contingence\n",
    "chi2, p, dof, expected = chi2_contingency(contingency_table)\n",
    "\n",
    "print(\"Coefficient de contingence:\", np.sqrt(chi2 / (len(healthcare_data['smoking_status']) * min(len(healthcare_data['stroke']), len(healthcare_data['smoking_status'])))))"
   ]
  },
  {
   "cell_type": "markdown",
   "metadata": {},
   "source": [
    "► Le coefficient de contingence est très faible, ce qui suggère une association très faible entre fumer et AVC.\n",
    "\n",
    "► Il est possible qu' il y ait peu de cas où fumer a un impact sur l'AVC dans nos données, ou que d'autres facteurs influencent cette association."
   ]
  },
  {
   "cell_type": "markdown",
   "metadata": {},
   "source": [
    "↔ A travers cette analyse, on constate qu'il existe une corrélation entre la variable à expliquer 'stroke', et la variable explicative 'âge', mais aussi une corrélation avec 'avg_glucose_level' qui est moins prononcée mais qu'on peut tout de meme considérer. \n",
    "\n",
    "Cependant, aucune corrélation \"significative\" n'a été trouvée avec d'autres variables telles que l'hypertension, les maladies cardiaques ou encore le statut de tabagisme. Une des raisons est que ces paramétres n'ont pas d'impact sur l'AVC dans le jeu données qu'on a.\n",
    "\n",
    "Rappelons que les AVC sont aussi causés par la consommation excessive d'alcool et peuvent aussi avoir une origine génétique. "
   ]
  },
  {
   "cell_type": "markdown",
   "metadata": {},
   "source": [
    "# Modélisation"
   ]
  },
  {
   "cell_type": "markdown",
   "metadata": {},
   "source": [
    " Supposons que nous choisissons l'âge comme la seule caractéristique à utiliser pour prédire les AVC (variable indépendante/explicative). "
   ]
  },
  {
   "cell_type": "code",
   "execution_count": 197,
   "metadata": {},
   "outputs": [],
   "source": [
    "# Normalisation des données\n",
    "from sklearn.preprocessing import StandardScaler\n",
    "\n",
    "X = healthcare_data[['age']]\n",
    "y = healthcare_data['stroke']\n",
    "\n",
    "scaler = StandardScaler()\n",
    "X_scaled = scaler.fit_transform(X)"
   ]
  },
  {
   "cell_type": "code",
   "execution_count": 198,
   "metadata": {},
   "outputs": [],
   "source": [
    "from sklearn.model_selection import train_test_split\n",
    "# on va diviser les données en ensembles d'entraînement (70%) et de test (30%)\n",
    "X_train, X_test, y_train, y_test = train_test_split(X_scaled, y, test_size=0.3, random_state=42)"
   ]
  },
  {
   "cell_type": "markdown",
   "metadata": {},
   "source": [
    "Commençons par la *régression logistique*\n",
    "\n",
    "La régression logistique est couramment utilisée dans les cas où on doit prédire une variable binaire, càd une variable qui a seulement deux valeurs possibles comme pour \"stroke\" (variable dépendante) où on a deux possibilité (1 ou bien 0).\n",
    "\n",
    "La régression logistique utilise la fonction logistique (sigmoïde), pour modéliser la relation entre la variable indépendante (l'age dans notre cas) et la probabilité de la variable dépendante (stroke)."
   ]
  },
  {
   "cell_type": "code",
   "execution_count": 199,
   "metadata": {},
   "outputs": [
    {
     "name": "stdout",
     "output_type": "stream",
     "text": [
      "accuracy moyenne: 0.7660047540839454\n"
     ]
    }
   ],
   "source": [
    "from sklearn.linear_model import LogisticRegression\n",
    "from sklearn.model_selection import cross_val_score\n",
    "from sklearn.metrics import classification_report, confusion_matrix\n",
    "import matplotlib.pyplot as plt\n",
    "import seaborn as sns\n",
    "\n",
    "# Modélisation avec la regression logistique\n",
    "model =  LogisticRegression()\n",
    "\n",
    "# cross-validation en 5 fold\n",
    "scores = cross_val_score(model, X_train, y_train, cv=5)\n",
    "print(\"accuracy moyenne:\", scores.mean())"
   ]
  },
  {
   "cell_type": "markdown",
   "metadata": {},
   "source": [
    "Les résultats de la cross validation indiquent que la régression logistique présente une précision moyenne d'environ 76% sur différents sous-ensembles de données training, on peut estimer que c'est acceptable et on peut dire qu'il généralise assez bien."
   ]
  },
  {
   "cell_type": "code",
   "execution_count": 200,
   "metadata": {},
   "outputs": [
    {
     "name": "stdout",
     "output_type": "stream",
     "text": [
      "              precision    recall  f1-score   support\n",
      "\n",
      "           0       0.76      0.70      0.73      1260\n",
      "           1       0.73      0.79      0.76      1284\n",
      "\n",
      "    accuracy                           0.74      2544\n",
      "   macro avg       0.75      0.74      0.74      2544\n",
      "weighted avg       0.75      0.74      0.74      2544\n",
      "\n",
      "Matrice de confusion :\n",
      "[[ 884  376]\n",
      " [ 273 1011]]\n"
     ]
    },
    {
     "data": {
      "image/png": "[encoded data removed]",
      "text/plain": [
       "<Figure size 600x600 with 1 Axes>"
      ]
     },
     "metadata": {},
     "output_type": "display_data"
    }
   ],
   "source": [
    "model.fit(X_train, y_train)\n",
    "predictions = model.predict(X_test)\n",
    "\n",
    "# affichage des metrics\n",
    "report = classification_report(y_test, predictions)\n",
    "print(report)\n",
    "\n",
    "\n",
    "# calcul de la matrice de confusion\n",
    "\n",
    "conf_matrix = confusion_matrix(y_test, predictions)\n",
    "print(\"Matrice de confusion :\")\n",
    "print(conf_matrix)\n",
    "\n",
    "plt.figure(figsize=(6, 6))\n",
    "sns.heatmap(conf_matrix, annot=True, cmap='Blues', fmt='g', cbar=False)\n",
    "plt.xlabel('Predicted labels')\n",
    "plt.ylabel('True labels')\n",
    "plt.title('Confusion Matrix')\n",
    "plt.show()"
   ]
  },
  {
   "cell_type": "markdown",
   "metadata": {},
   "source": [
    "Dans le domaine de la santé, la métrique la plus importante pour détecter la plupart des cas correctement est le Recall qui mesure la proportion de cas positifs réels (dans ce contexte, les cas d'AVC) qui sont correctement identifiés par le modèle.\n",
    "\n",
    "Le Recall pour la classe 0 (non-AVC) est de 0,7. Cela signifie que le modèle a correctement identifié 70 % des vrais cas de non-AVC.\n",
    "\n",
    "Un faux négatif pourrait signifier qu'un patient présentant des symptômes d'AVC ne reçoit pas le traitement nécessaire à temps, ce qui pourrait entraîner des conséquences graves, voire mortelles. Par conséquent, en plus de minimiser les faux positifs, il est encore **plus important** d'optimiser le modèle pour réduire les faux négatifs, afin de garantir une détection précise et rapide des cas d'AVC. Dans notre cas :\n",
    "\n",
    "Le Recall pour la classe 1 (AVC) est de 0,8. Cela signifie que le modèle a correctement identifié 80 % des vrais cas d'AVC."
   ]
  },
  {
   "cell_type": "markdown",
   "metadata": {},
   "source": [
    "La matrice de confusion met en évidence nos succès et nos lacunes dans la classification des données. Bien que notre modèle ait correctement identifié un nombre considérable d'exemples, il a également manqué certains cas positifs (faux négatifs) et en a incorrectement classé d'autres comme positifs (faux positifs). \n",
    "\n",
    "Essayons un deuxième modèle pour réduire ces erreurs, le SVM. Ce modèle est initialisé avec les paramètres par défaut."
   ]
  },
  {
   "cell_type": "code",
   "execution_count": 201,
   "metadata": {},
   "outputs": [
    {
     "name": "stdout",
     "output_type": "stream",
     "text": [
      "accuracy moyenne: 0.768699633232068\n"
     ]
    }
   ],
   "source": [
    "from sklearn.svm import SVC\n",
    "\n",
    "model = SVC()\n",
    "\n",
    "# cross-validation en 5 fold\n",
    "scores = cross_val_score(model, X_train, y_train, cv=5)\n",
    "print(\"accuracy moyenne:\", scores.mean())"
   ]
  },
  {
   "cell_type": "markdown",
   "metadata": {},
   "source": [
    "On trouve à peu près le meme résultat que celui de la cross validation sur la régression logistique. On peut estimer que c'est raisonnable et que le modèle généralise assez bien."
   ]
  },
  {
   "cell_type": "code",
   "execution_count": 202,
   "metadata": {},
   "outputs": [
    {
     "name": "stdout",
     "output_type": "stream",
     "text": [
      "              precision    recall  f1-score   support\n",
      "\n",
      "           0       0.81      0.65      0.72      1260\n",
      "           1       0.71      0.85      0.78      1284\n",
      "\n",
      "    accuracy                           0.75      2544\n",
      "   macro avg       0.76      0.75      0.75      2544\n",
      "weighted avg       0.76      0.75      0.75      2544\n",
      "\n",
      "Matrice de confusion :\n",
      "[[ 823  437]\n",
      " [ 192 1092]]\n"
     ]
    },
    {
     "data": {
      "image/png": "[encoded data removed]",
      "text/plain": [
       "<Figure size 600x600 with 1 Axes>"
      ]
     },
     "metadata": {},
     "output_type": "display_data"
    }
   ],
   "source": [
    "model.fit(X_train, y_train)\n",
    "predictions = model.predict(X_test)\n",
    "\n",
    "# afficher les métriques\n",
    "report = classification_report(y_test, predictions)\n",
    "print(report)\n",
    "\n",
    "# calcul de la matrice de confusion\n",
    "conf_matrix = confusion_matrix(y_test, predictions)\n",
    "print(\"Matrice de confusion :\")\n",
    "print(conf_matrix)\n",
    "\n",
    "plt.figure(figsize=(6, 6))\n",
    "sns.heatmap(conf_matrix, annot=True, cmap='Blues', fmt='g', cbar=False)\n",
    "plt.xlabel('Predicted labels')\n",
    "plt.ylabel('True labels')\n",
    "plt.title('Confusion Matrix')\n",
    "plt.show()"
   ]
  },
  {
   "cell_type": "markdown",
   "metadata": {},
   "source": [
    "Avec un Recall de 88%, le modèle semble être capable de détecter de manière fiable la majorité des cas d'AVC chez les patients et on le voit bien  à travers la matrice de confusion : on a moins de cas de faux négatifs par rapport au premier modèle utilisé. C'est donc un modèle qui est déjà meilleur que celui de la régression logistique du moins dans la detection des vrais cas d'AVC.\n",
    "\n",
    "Les autres valeurs des métriques sont moins bonnes avec notamment 77% en accuracy générale. "
   ]
  },
  {
   "cell_type": "markdown",
   "metadata": {},
   "source": [
    "Passons à l'utilisation du Random Forest pour voir si on peut faire mieux!"
   ]
  },
  {
   "cell_type": "code",
   "execution_count": 203,
   "metadata": {},
   "outputs": [
    {
     "name": "stdout",
     "output_type": "stream",
     "text": [
      "accuracy moyenne: 0.9497974692161717\n"
     ]
    }
   ],
   "source": [
    "from sklearn.ensemble import RandomForestClassifier\n",
    "\n",
    "# RF avec 100 arbres par defaut \n",
    "model = RandomForestClassifier()\n",
    "\n",
    "# cross-validation en 5 fold\n",
    "scores = cross_val_score(model, X_train, y_train, cv=5)\n",
    "print(\"accuracy moyenne:\", scores.mean())"
   ]
  },
  {
   "cell_type": "markdown",
   "metadata": {},
   "source": [
    "Les résultats de la cross validation indiquent que le Random Forest présente une précision moyenne d'environ 95% sur différents sous-ensembles de données training, suggérant sa capacité à généraliser efficacement aux données non vues."
   ]
  },
  {
   "cell_type": "code",
   "execution_count": 204,
   "metadata": {},
   "outputs": [
    {
     "name": "stdout",
     "output_type": "stream",
     "text": [
      "              precision    recall  f1-score   support\n",
      "\n",
      "           0       0.91      1.00      0.95      1260\n",
      "           1       1.00      0.91      0.95      1284\n",
      "\n",
      "    accuracy                           0.95      2544\n",
      "   macro avg       0.96      0.95      0.95      2544\n",
      "weighted avg       0.96      0.95      0.95      2544\n",
      "\n",
      "Matrice de confusion :\n",
      "[[1260    0]\n",
      " [ 119 1165]]\n"
     ]
    },
    {
     "data": {
      "image/png": "[encoded data removed]",
      "text/plain": [
       "<Figure size 600x600 with 1 Axes>"
      ]
     },
     "metadata": {},
     "output_type": "display_data"
    }
   ],
   "source": [
    "model.fit(X_train, y_train)\n",
    "predictions = model.predict(X_test)\n",
    "\n",
    "# afficher les métriques\n",
    "report = classification_report(y_test, predictions)\n",
    "print(report)\n",
    "\n",
    "# calcul de la matrice de confusion\n",
    "\n",
    "conf_matrix = confusion_matrix(y_test, predictions)\n",
    "print(\"Matrice de confusion :\")\n",
    "print(conf_matrix)\n",
    "\n",
    "plt.figure(figsize=(6, 6))\n",
    "sns.heatmap(conf_matrix, annot=True, cmap='Blues', fmt='g', cbar=False)\n",
    "plt.xlabel('Predicted labels')\n",
    "plt.ylabel('True labels')\n",
    "plt.title('Confusion Matrix')\n",
    "plt.show()"
   ]
  },
  {
   "cell_type": "markdown",
   "metadata": {},
   "source": [
    "Avec un Recall de 91% (classe 1), le modèle semble être capable de détecter de manière fiable la présence d'AVC chez les patients.\n",
    "Le Recall pour les patients ayant eu un AVC (classe 1) est de 0.91, ce qui signifie que le modèle a réussi à identifier correctement 91% des patients qui ont eu un AVC parmi tous ceux qui en ont effectivement eu un. A travers la matrice de confusion, on remarque qu'on a moins de cas de faux négatifs que ceux rapportés par le SVM et par la régression logistique. \n",
    "\n",
    "On constate également que le Recall pour la classe 0 (non-AVC) est de 100%. Cela signifie que notre modèle a réussi à capturer tous les vrais cas de non-AVC parmi tous les cas réels de cette classe, ce qui se traduit par aucun faux positif. Ceci est un plus, cela nous évitera d'entraîner de l'anxiété et de la frayeur chez le patient en l'identifiant à tort comme présentant un risque d'AVC alors qu'il n'en a pas.\n",
    "\n",
    "=> Ce modèle RF est plus efficace que celui de la régression logistique."
   ]
  },
  {
   "cell_type": "markdown",
   "metadata": {},
   "source": [
    "Après avoir comparé les performances des trois modèles testés (Régression Logistique, SVM, et Random Forest), nous avons constaté que le modèle Random Forest surpassait les autres en termes de performances générales, en particulier en ce qui concerne le **Recall de la classe 1**, ce qui est crucial dans le domaine médical. En conséquence, nous avons choisi de retenir ce dernier comme étant le plus approprié pour notre tâche de classification."
   ]
  },
  {
   "cell_type": "markdown",
   "metadata": {},
   "source": [
    " Maintenant, supposons que nous choisissons **l'âge + le taux moyen de glucose** comme caractéristiques à utiliser pour prédire les AVC (variables indépendantes/explicatives)."
   ]
  },
  {
   "cell_type": "code",
   "execution_count": 205,
   "metadata": {},
   "outputs": [],
   "source": [
    "# On ajoute le taux moyen de glucose pour expliquer les AVC\n",
    "X = healthcare_data[['age', 'avg_glucose_level']]\n",
    "y = healthcare_data['stroke']\n",
    "# On normalise nos données\n",
    "scaler = StandardScaler()\n",
    "X_scaled = scaler.fit_transform(X)\n",
    "\n",
    "# on divise les données en ensembles d'entraînement (70%) et de test (30%)\n",
    "X_train, X_test, y_train, y_test = train_test_split(X_scaled, y, test_size=0.3, random_state=42)"
   ]
  },
  {
   "cell_type": "code",
   "execution_count": 206,
   "metadata": {},
   "outputs": [
    {
     "name": "stdout",
     "output_type": "stream",
     "text": [
      "accuracy moyenne: 0.8460244114835522\n"
     ]
    }
   ],
   "source": [
    "## On va utiliser le meilleur model qui est le RF cette fois-ci\n",
    "\n",
    "# RF avec 100 arbres par defaut \n",
    "model = RandomForestClassifier()\n",
    "\n",
    "# cross-validation en 5 fold\n",
    "scores = cross_val_score(model, X_train, y_train, cv=5)\n",
    "print(\"accuracy moyenne:\", scores.mean())"
   ]
  },
  {
   "cell_type": "markdown",
   "metadata": {},
   "source": [
    "Les résultats de la cross validation indiquent que le Random Forest présente une précision moyenne de 85% sur différents sous-ensembles de données d'entrainement, suggérant sa capacité à généraliser efficacement aux données non vues. Néanmoins, c'est une accuracy plus faible que celle qu'on avait trouvé avec seulement l'age comme feature. \n",
    "Testons notre model RF."
   ]
  },
  {
   "cell_type": "code",
   "execution_count": 207,
   "metadata": {},
   "outputs": [
    {
     "name": "stdout",
     "output_type": "stream",
     "text": [
      "              precision    recall  f1-score   support\n",
      "\n",
      "           0       0.86      0.84      0.85      1260\n",
      "           1       0.85      0.86      0.86      1284\n",
      "\n",
      "    accuracy                           0.85      2544\n",
      "   macro avg       0.85      0.85      0.85      2544\n",
      "weighted avg       0.85      0.85      0.85      2544\n",
      "\n"
     ]
    }
   ],
   "source": [
    "model.fit(X_train, y_train)\n",
    "predictions = model.predict(X_test)\n",
    "\n",
    "# afficher les métriques\n",
    "report = classification_report(y_test, predictions)\n",
    "print(report)"
   ]
  },
  {
   "cell_type": "markdown",
   "metadata": {},
   "source": [
    "Les performances du modèle sont remarquables, avec un Recall de 85% (tout comme les autres métriques), ce qui suggère une capacité fiable à détecter la présence d'AVC chez les patients. Cependant, les résultats sont encore plus concluants (Recall classe 1= 91%) lorsqu'on se limite à utiliser uniquement l'âge comme caractéristique.\n",
    "\n",
    "Ces constats semblent cohérents avec les résultats de corrélation et de cross validation. En effet, l'ajout de la variable 'avg_glucose_level' semble avoir un impact négatif sur les performances globales du modèle. \n",
    "\n",
    "Cette observation peut se confirmer davantage lorsqu'on se restreint à cette caractéristique pour prédire les AVC. Let's see!:"
   ]
  },
  {
   "cell_type": "code",
   "execution_count": 208,
   "metadata": {},
   "outputs": [],
   "source": [
    "# On utilise seulement le taux moyen de glucose pour expliquer les AVC\n",
    "X = healthcare_data[['avg_glucose_level']]\n",
    "y = healthcare_data['stroke']\n",
    "# On normalise les données\n",
    "scaler = StandardScaler()\n",
    "X_scaled = scaler.fit_transform(X)\n",
    "\n",
    "# on divise les données en ensembles d'entraînement (70%) et de test (30%)\n",
    "X_train, X_test, y_train, y_test = train_test_split(X_scaled, y, test_size=0.3, random_state=42)"
   ]
  },
  {
   "cell_type": "code",
   "execution_count": 209,
   "metadata": {},
   "outputs": [
    {
     "name": "stdout",
     "output_type": "stream",
     "text": [
      "accuracy moyenne: 0.5699068755513574\n"
     ]
    }
   ],
   "source": [
    "## On va utiliser le meilleur model qui est le RF cette fois-ci\n",
    "# RF avec 100 arbres par defaut \n",
    "model = RandomForestClassifier()\n",
    "\n",
    "# cross-validation en 5 fold\n",
    "scores = cross_val_score(model, X_train, y_train, cv=5)\n",
    "print(\"accuracy moyenne:\", scores.mean())"
   ]
  },
  {
   "cell_type": "code",
   "execution_count": 210,
   "metadata": {},
   "outputs": [
    {
     "name": "stdout",
     "output_type": "stream",
     "text": [
      "              precision    recall  f1-score   support\n",
      "\n",
      "           0       0.57      0.57      0.57      1260\n",
      "           1       0.58      0.58      0.58      1284\n",
      "\n",
      "    accuracy                           0.58      2544\n",
      "   macro avg       0.58      0.58      0.58      2544\n",
      "weighted avg       0.58      0.58      0.58      2544\n",
      "\n"
     ]
    }
   ],
   "source": [
    "model.fit(X_train, y_train)\n",
    "predictions = model.predict(X_test)\n",
    "\n",
    "# afficher les métriques\n",
    "report = classification_report(y_test, predictions)\n",
    "print(report)"
   ]
  },
  {
   "cell_type": "markdown",
   "metadata": {},
   "source": [
    "Les résultats montrent que le modèle n'est pas performant lorsqu'il utilise uniquement cette caractéristique \"avg_glucose_level\". En effet, il parvient à prédire correctement seulement la moitié du temps.\n",
    "Il semble que l'utilisation du Random Forest avec uniquement l'âge comme caractéristique soit la meilleure approche pour notre étude."
   ]
  },
  {
   "cell_type": "markdown",
   "metadata": {},
   "source": [
    "# Conclusion"
   ]
  },
  {
   "cell_type": "markdown",
   "metadata": {},
   "source": []
  },
  {
   "cell_type": "markdown",
   "metadata": {},
   "source": [
    "# Annexe"
   ]
  },
  {
   "cell_type": "code",
   "execution_count": 211,
   "metadata": {},
   "outputs": [
    {
     "name": "stdout",
     "output_type": "stream",
     "text": [
      "(4449, 12)\n"
     ]
    }
   ],
   "source": [
    "print(initial_healthcare_data.shape)\n",
    "df_final = initial_healthcare_data"
   ]
  },
  {
   "cell_type": "code",
   "execution_count": 212,
   "metadata": {},
   "outputs": [
    {
     "name": "stdout",
     "output_type": "stream",
     "text": [
      "Calcul de la correlation entre bmi et stroke\n",
      "Coefficient de corrélation de rang de Spearman: 0.027898930183348367\n",
      "p-value: 0.06278360000856374\n"
     ]
    }
   ],
   "source": [
    "# correlation entre bmi et stroke en utilisant Spearman\n",
    "print(\"Calcul de la correlation entre bmi et stroke\")\n",
    "correlation, p_value = spearmanr(df_final['bmi'], df_final['stroke'])\n",
    "print(\"Coefficient de corrélation de rang de Spearman:\", correlation)\n",
    "print(\"p-value:\", p_value)"
   ]
  },
  {
   "cell_type": "code",
   "execution_count": 213,
   "metadata": {},
   "outputs": [
    {
     "name": "stdout",
     "output_type": "stream",
     "text": [
      "Calcul de la correlation entre age et stroke\n",
      "Coefficient de corrélation de rang de Spearman: 0.23332535274937413\n",
      "p-value: 4.489535326932322e-56\n"
     ]
    }
   ],
   "source": [
    "# correlation entre age et stroke\n",
    "print(\"Calcul de la correlation entre age et stroke\")\n",
    "correlation, p_value = spearmanr(df_final['age'], df_final['stroke'])\n",
    "print(\"Coefficient de corrélation de rang de Spearman:\", correlation)\n",
    "print(\"p-value:\", p_value)"
   ]
  },
  {
   "cell_type": "code",
   "execution_count": 214,
   "metadata": {},
   "outputs": [
    {
     "name": "stdout",
     "output_type": "stream",
     "text": [
      "Calcul de la correlation entre avg_glucose_level et stroke\n",
      "Coefficient de corrélation de rang de Spearman: 0.08870895245551212\n",
      "p-value: 3.0854716821449725e-09\n"
     ]
    }
   ],
   "source": [
    "#correlation entre avg_glucose_level et stroke\n",
    "print(\"Calcul de la correlation entre avg_glucose_level et stroke\")\n",
    "correlation, p_value = spearmanr(df_final['avg_glucose_level'], df_final['stroke'])\n",
    "print(\"Coefficient de corrélation de rang de Spearman:\", correlation)\n",
    "print(\"p-value:\", p_value)"
   ]
  },
  {
   "cell_type": "code",
   "execution_count": 215,
   "metadata": {},
   "outputs": [
    {
     "name": "stdout",
     "output_type": "stream",
     "text": [
      "Correlation entre heart disease et stroke:\n",
      "Coefficient de contingence: 0.0019754937789457513\n"
     ]
    }
   ],
   "source": [
    "# Test de khi2\n",
    "\n",
    "# calcul de la correlation entre heart disease (maladie cardiaque) et stroke (AVC)\n",
    "print(\"Correlation entre heart disease et stroke:\")\n",
    "\n",
    "\n",
    "# calcul du tableau de contingence\n",
    "contingency_table = pd.crosstab(df_final['heart_disease'], df_final['stroke'])\n",
    "\n",
    "#calcul du coeff de contingence\n",
    "chi2, p, dof, expected = chi2_contingency(contingency_table)\n",
    "\n",
    "print(\"Coefficient de contingence:\", np.sqrt(chi2 / (len(df_final['heart_disease']) * min(len(df_final['stroke']), len(df_final['heart_disease'])))))"
   ]
  },
  {
   "cell_type": "code",
   "execution_count": 216,
   "metadata": {},
   "outputs": [
    {
     "name": "stdout",
     "output_type": "stream",
     "text": [
      "Correlation entre hypertension et stroke:\n",
      "Coefficient de contingence: 0.0020216996072913956\n"
     ]
    }
   ],
   "source": [
    "#calcul de la correlation entre hypertension (hypertension) et stroke (AVC)\n",
    "print(\"Correlation entre hypertension et stroke:\")\n",
    "\n",
    "\n",
    "# calcul du tableau de contingence\n",
    "contingency_table = pd.crosstab(df_final['hypertension'], df_final['stroke'])\n",
    "\n",
    "#calcul du coeff de contingence\n",
    "chi2, p, dof, expected = chi2_contingency(contingency_table)\n",
    "\n",
    "print(\"Coefficient de contingence:\", np.sqrt(chi2 / (len(df_final['hypertension']) * min(len(df_final['stroke']), len(df_final['hypertension'])))))"
   ]
  },
  {
   "cell_type": "code",
   "execution_count": 217,
   "metadata": {},
   "outputs": [
    {
     "name": "stdout",
     "output_type": "stream",
     "text": [
      "Correlation entre smoking_status et stroke:\n",
      "Coefficient de contingence: 0.0009280314668862633\n"
     ]
    }
   ],
   "source": [
    "# calcul de la correlation entre smoking_status (smoking_status) et stroke (AVC)\n",
    "print(\"Correlation entre smoking_status et stroke:\")\n",
    "# calcul du tableau de contingence\n",
    "contingency_table = pd.crosstab(df_final['smoking_status'], df_final['stroke'])\n",
    "\n",
    "#calcul du coeff de contingence\n",
    "chi2, p, dof, expected = chi2_contingency(contingency_table)\n",
    "\n",
    "print(\"Coefficient de contingence:\", np.sqrt(chi2 / (len(df_final['smoking_status']) * min(len(df_final['stroke']), len(df_final['smoking_status'])))))"
   ]
  },
  {
   "cell_type": "markdown",
   "metadata": {},
   "source": [
    "Au vue des résultats des différents tests effectués, les coefficients de corrélation entre les variables explicatives et la variable expliquée ne sont pas élevés. \n",
    "\n",
    "Par contre, elles sont toutes positives, ce qui montre qu'elles évoluent parallèlement avec la variable stroke. Nous choisissons les variables 'age' et 'avg_glucose_level' dont leur coeffiscient de corrélation est acceptable par rapport aux autres pour faire du machine learning."
   ]
  },
  {
   "cell_type": "code",
   "execution_count": 218,
   "metadata": {},
   "outputs": [],
   "source": [
    "#Sélection de la variable explicative hypertension\n",
    "X = df_final[['age']]\n",
    "\n",
    "# Sélection de la variable expliquée \n",
    "y = df_final['stroke']\n",
    "\n",
    "# Séparation de la donnée en set d'entraînement et de validation\n",
    "X_train, X_test, y_train, y_test = train_test_split(X, y, test_size = 0.3, random_state = 42)"
   ]
  },
  {
   "cell_type": "code",
   "execution_count": 219,
   "metadata": {},
   "outputs": [
    {
     "name": "stdout",
     "output_type": "stream",
     "text": [
      "              precision    recall  f1-score   support\n",
      "\n",
      "           0       0.95      1.00      0.97      1266\n",
      "           1       0.00      0.00      0.00        69\n",
      "\n",
      "    accuracy                           0.95      1335\n",
      "   macro avg       0.47      0.50      0.49      1335\n",
      "weighted avg       0.90      0.95      0.92      1335\n",
      "\n"
     ]
    }
   ],
   "source": [
    "from sklearn.exceptions import UndefinedMetricWarning\n",
    "import warnings\n",
    "warnings.filterwarnings(\"ignore\", category=UndefinedMetricWarning)\n",
    "\n",
    "model = LogisticRegression()\n",
    "model.fit(X_train, y_train)\n",
    "predictions = model.predict(X_test)\n",
    "\n",
    "# affichage des metrics\n",
    "report = classification_report(y_test, predictions)\n",
    "print(report)"
   ]
  },
  {
   "cell_type": "markdown",
   "metadata": {},
   "source": [
    "Compte tenu du rapport de classification , On voit que les résultats ne sont pas du tout parlants.\n",
    "\n",
    "Quand on regarde le Recall, on voit que le modèle prédit à 100% les non malades et n'arrive pas du tout à prédire les malades, ce qui est prévisible vu le déséquilibre du jeu de donnée qui est constitué pratiquement que des patients non malades."
   ]
  },
  {
   "cell_type": "code",
   "execution_count": null,
   "metadata": {},
   "outputs": [],
   "source": []
  }
 ],
 "metadata": {
  "kernelspec": {
   "display_name": "base",
   "language": "python",
   "name": "python3"
  },
  "language_info": {
   "codemirror_mode": {
    "name": "ipython",
    "version": 3
   },
   "file_extension": ".py",
   "mimetype": "text/x-python",
   "name": "python",
   "nbconvert_exporter": "python",
   "pygments_lexer": "ipython3",
   "version": "3.8.0"
  }
 },
 "nbformat": 4,
 "nbformat_minor": 2
}
